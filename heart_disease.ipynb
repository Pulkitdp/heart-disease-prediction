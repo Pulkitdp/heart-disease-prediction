{
 "cells": [
  {
   "cell_type": "code",
   "execution_count": 1,
   "metadata": {},
   "outputs": [],
   "source": [
    "import pandas as pd\n",
    "import numpy as np\n",
    "from sklearn.model_selection import train_test_split"
   ]
  },
  {
   "cell_type": "code",
   "execution_count": 2,
   "metadata": {},
   "outputs": [
    {
     "data": {
      "text/plain": [
       "pandas.core.frame.DataFrame"
      ]
     },
     "execution_count": 2,
     "metadata": {},
     "output_type": "execute_result"
    }
   ],
   "source": [
    "dataset=pd.read_csv(\"framingham.csv\")\n",
    "x=dataset.iloc[:,:15]\n",
    "y=dataset.iloc[:,15]\n",
    "type(x)"
   ]
  },
  {
   "cell_type": "code",
   "execution_count": 3,
   "metadata": {},
   "outputs": [
    {
     "name": "stdout",
     "output_type": "stream",
     "text": [
      "Index(['male', 'age', 'education', 'currentSmoker', 'cigsPerDay', 'BPMeds',\n",
      "       'prevalentStroke', 'prevalentHyp', 'diabetes', 'totChol', 'sysBP',\n",
      "       'diaBP', 'BMI', 'heartRate', 'glucose'],\n",
      "      dtype='object')\n"
     ]
    }
   ],
   "source": [
    "col=x.columns\n",
    "print(col)\n",
    "\n",
    "# nulls = dataset.isnull().sum()\n",
    "# nulls"
   ]
  },
  {
   "cell_type": "code",
   "execution_count": 4,
   "metadata": {},
   "outputs": [],
   "source": [
    "# count=0\n",
    "# for i in  dataset.isnull().sum(axis=1):\n",
    "#     if i>0:\n",
    "#         count+=1\n",
    "        \n",
    "# x.dropna(axis=0)"
   ]
  },
  {
   "cell_type": "code",
   "execution_count": 5,
   "metadata": {},
   "outputs": [],
   "source": [
    "for column in col:\n",
    "    x[column]=x[column].replace('NA',np.NaN)\n",
    "    mean=int(x[column].mean(skipna=True))\n",
    "    x[column]=x[column].replace(np.NaN,mean)"
   ]
  },
  {
   "cell_type": "code",
   "execution_count": 194,
   "metadata": {},
   "outputs": [],
   "source": [
    "# from sklearn.preprocessing import Imputer\n",
    "# imputer = Imputer(missing_values = 'NaN', strategy = 'mean', axis = 0)\n",
    "# x= imputer.fit_transform(x)\n",
    "# x= pd.DataFrame(x)"
   ]
  },
  {
   "cell_type": "code",
   "execution_count": 6,
   "metadata": {},
   "outputs": [
    {
     "name": "stdout",
     "output_type": "stream",
     "text": [
      "Accuracy : 0.85\n",
      "        Classification Report :              precision    recall  f1-score   support\n",
      "\n",
      "          0       0.99      0.85      0.92      1043\n",
      "          1       0.06      0.59      0.11        17\n",
      "\n",
      "avg / total       0.98      0.85      0.91      1060\n",
      "\n"
     ]
    }
   ],
   "source": [
    "from sklearn.ensemble import RandomForestClassifier\n",
    "from sklearn.metrics import accuracy_score,classification_report\n",
    "\n",
    "x_train,x_test,y_train,y_test=train_test_split(x,y,test_size=.25,random_state=1)\n",
    "\n",
    "ran=RandomForestClassifier(bootstrap=True,n_estimators=100)\n",
    "ran.fit(x_train,y_train)\n",
    "ypred=ran.predict(x_test)\n",
    "\n",
    "print(\"\"\"Accuracy : {}\n",
    "        Classification Report : {}\"\"\".format(accuracy_score(ypred,y_test),classification_report(ypred,y_test)))"
   ]
  },
  {
   "cell_type": "code",
   "execution_count": 7,
   "metadata": {},
   "outputs": [
    {
     "data": {
      "text/plain": [
       "<Figure size 1600x1600 with 2 Axes>"
      ]
     },
     "metadata": {},
     "output_type": "display_data"
    }
   ],
   "source": [
    "## Co-relation Matrix\n",
    "import seaborn as sns\n",
    "import matplotlib.pyplot as plt\n",
    "\n",
    "cor=dataset.corr()\n",
    "plt.figure(figsize=(16,16))\n",
    "sns.heatmap(cor,annot=True)\n",
    "plt.show()"
   ]
  },
  {
   "cell_type": "code",
   "execution_count": 8,
   "metadata": {},
   "outputs": [
    {
     "data": {
      "image/png": "[encoded data removed]",
      "text/plain": [
       "<Figure size 1296x576 with 1 Axes>"
      ]
     },
     "metadata": {},
     "output_type": "display_data"
    },
    {
     "name": "stdout",
     "output_type": "stream",
     "text": [
      "['male', 'education', 'currentSmoker', 'cigsPerDay', 'BPMeds', 'prevalentStroke', 'prevalentHyp', 'diabetes']\n"
     ]
    }
   ],
   "source": [
    "## Feature Importance\n",
    "imp=ran.feature_importances_\n",
    "\n",
    "plt.figure(figsize=(18,8))\n",
    "plt.scatter(col,imp)\n",
    "plt.show()\n",
    "\n",
    "su=imp.sum()\n",
    "mean=su/(len(imp))\n",
    "\n",
    "non_imp=[]\n",
    "for i in range(len(imp)):\n",
    "    if imp[i]<mean:\n",
    "        non_imp.append(i)\n",
    "        \n",
    "non_imp_col=[]\n",
    "for i in non_imp:\n",
    "    non_imp_col.append(col[i])\n",
    "    \n",
    "print(non_imp_col)\n",
    "\n",
    "dataset=dataset.drop(non_imp_col,axis=1)\n",
    "\n",
    "x=dataset.iloc[:,:7]\n",
    "y=dataset.iloc[:,7]"
   ]
  },
  {
   "cell_type": "code",
   "execution_count": 198,
   "metadata": {},
   "outputs": [
    {
     "name": "stdout",
     "output_type": "stream",
     "text": [
      "Accuracy : 0.8481132075471698\n",
      "        Classification Report :              precision    recall  f1-score   support\n",
      "\n",
      "          0       0.99      0.86      0.92      1035\n",
      "          1       0.08      0.52      0.14        25\n",
      "\n",
      "avg / total       0.97      0.85      0.90      1060\n",
      "\n"
     ]
    }
   ],
   "source": [
    "### Again Train model after the feature selection\n",
    "\n",
    "from sklearn.preprocessing import Imputer\n",
    "imputer = Imputer(missing_values = 'NaN', strategy = 'mean', axis = 0)\n",
    "x= imputer.fit_transform(x)\n",
    "x= pd.DataFrame(x)\n",
    "\n",
    "x_train,x_test,y_train,y_test=train_test_split(x,y,test_size=.25,random_state=1)\n",
    "\n",
    "ran_a=RandomForestClassifier(bootstrap=True,n_estimators=100)\n",
    "ran_a.fit(x_train,y_train)\n",
    "ypred=ran_a.predict(x_test)\n",
    "\n",
    "print(\"\"\"Accuracy : {}\n",
    "        Classification Report : {}\"\"\".format(accuracy_score(ypred,y_test),classification_report(ypred,y_test)))\n",
    "\n",
    "# from sklearn.svm import SVC\n",
    "# svc=SVC(kernel='linear')  # kernel='linear' (kernel='rbf',gamma=10)\n",
    "# svc.fit(x_train,y_train)\n",
    "# pred=svc.predict(x_test)\n",
    "\n",
    "# print(accuracy_score(pred,y_test))"
   ]
  },
  {
   "cell_type": "code",
   "execution_count": 199,
   "metadata": {},
   "outputs": [
    {
     "name": "stdout",
     "output_type": "stream",
     "text": [
      "Prediction (1 or 0) : [1]\n"
     ]
    }
   ],
   "source": [
    "### Now Prediction on new data\n",
    "\n",
    "new_data=pd.read_csv(\"new_data.csv\")\n",
    "new_pred=ran.predict(new_data)\n",
    "print(\"Prediction (1 or 0) : {}\".format(new_pred))"
   ]
  }
 ],
 "metadata": {
  "kernelspec": {
   "display_name": "Python 3",
   "language": "python",
   "name": "python3"
  },
  "language_info": {
   "codemirror_mode": {
    "name": "ipython",
    "version": 3
   },
   "file_extension": ".py",
   "mimetype": "text/x-python",
   "name": "python",
   "nbconvert_exporter": "python",
   "pygments_lexer": "ipython3",
   "version": "3.6.5"
  }
 },
 "nbformat": 4,
 "nbformat_minor": 2
}
